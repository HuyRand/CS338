{
 "cells": [
  {
   "cell_type": "code",
   "execution_count": 5,
   "metadata": {},
   "outputs": [],
   "source": [
    "from mtcnn import MTCNN\n",
    "import cv2\n",
    "import matplotlib.pyplot as plt\n",
    "import time\n",
    "from keras_facenet import FaceNet\n",
    "from numpy import asarray\n",
    "import pickle\n",
    "import numpy as np"
   ]
  },
  {
   "cell_type": "markdown",
   "metadata": {},
   "source": [
    "# Extracting features from the cropped images"
   ]
  },
  {
   "cell_type": "markdown",
   "metadata": {},
   "source": [
    "## Classes to hold the images and their information "
   ]
  },
  {
   "cell_type": "code",
   "execution_count": 6,
   "metadata": {},
   "outputs": [],
   "source": [
    "class Image:\n",
    "    def __init__ (self, name , img):\n",
    "        self.name = name\n",
    "        self.img=img"
   ]
  },
  {
   "cell_type": "code",
   "execution_count": 7,
   "metadata": {},
   "outputs": [],
   "source": [
    "class ProcessedImage:\n",
    "    def __init__ (self, name , vector):\n",
    "        self.name = name\n",
    "        self.vector=vector"
   ]
  },
  {
   "cell_type": "markdown",
   "metadata": {},
   "source": [
    "## Utility class"
   ]
  },
  {
   "cell_type": "code",
   "execution_count": 8,
   "metadata": {},
   "outputs": [],
   "source": [
    "def ProcessName(name):\n",
    "    x=name.split()\n",
    "    return x[0]"
   ]
  },
  {
   "cell_type": "code",
   "execution_count": 9,
   "metadata": {},
   "outputs": [],
   "source": [
    "#Read image into a list\n",
    "import os\n",
    "\n",
    "def load_images_from_folder(folder):\n",
    "    images = []\n",
    "    for subFolder in os.listdir(folder):\n",
    "        ExactSubFolder = os.path.join(folder,subFolder)\n",
    "        for filename in os.listdir(ExactSubFolder):\n",
    "            Temp=os.path.join(folder,subFolder)\n",
    "            img = cv2.cvtColor(cv2.imread(os.path.join(Temp,filename)), cv2.COLOR_BGR2RGB)\n",
    "            if img is not None:\n",
    "               images.append(Image(ProcessName(filename),img))\n",
    "    return images\n",
    "\n",
    "\n"
   ]
  },
  {
   "cell_type": "markdown",
   "metadata": {},
   "source": [
    "## Loading images into a list"
   ]
  },
  {
   "cell_type": "code",
   "execution_count": 14,
   "metadata": {},
   "outputs": [],
   "source": [
    "img_List=load_images_from_folder('./Train')  #preferbly pictures that only have 1 person in 'em"
   ]
  },
  {
   "cell_type": "markdown",
   "metadata": {},
   "source": [
    "## Cropping detected faces from the image list and extracting features from them "
   ]
  },
  {
   "cell_type": "code",
   "execution_count": 15,
   "metadata": {},
   "outputs": [],
   "source": [
    "embedder = FaceNet()\n",
    "detector = MTCNN(min_face_size=200)\n",
    "\n",
    "Data=[]\n",
    "for img in img_List:\n",
    "    detections = detector.detect_faces(img.img)\n",
    "\n",
    "    #bounding box\n",
    "    img_crop = []\n",
    "    for det in detections:\n",
    "        #cv2.rectangle(img, (det['box'][0],det['box'][1]), (det['box'][0]+det['box'][2], det['box'][1]+det['box'][3]), (0, 255, 0), 2)\n",
    "        img_crop.append(img.img[det['box'][1]:det['box'][1]+det['box'][3], det['box'][0]:det['box'][0]+det['box'][2]])\n",
    "    \n",
    "    if (len(img_crop) == 1 ):\n",
    "        #extract features\n",
    "        new_trainx =list()\n",
    "        \n",
    "        for cropped in img_crop:\n",
    "            embedding = embedder.embeddings(img_crop)\n",
    "            new_trainx.append(embedding)\n",
    "\n",
    "        new_trainx = asarray(new_trainx)\n",
    "        Data.append(ProcessedImage(img.name,new_trainx[0][0]))"
   ]
  },
  {
   "cell_type": "markdown",
   "metadata": {},
   "source": [
    "## Serializing feature vector + name"
   ]
  },
  {
   "cell_type": "code",
   "execution_count": 16,
   "metadata": {},
   "outputs": [],
   "source": [
    "with open('Extracted_Features', 'wb') as f:\n",
    "        pickle.dump(Data, f)"
   ]
  }
 ],
 "metadata": {
  "interpreter": {
   "hash": "409555c81d5165a91522eae065cf00584e5c37a9664bba2afe3de028dbe267a1"
  },
  "kernelspec": {
   "display_name": "Python 3.8.5 32-bit",
   "language": "python",
   "name": "python3"
  },
  "language_info": {
   "codemirror_mode": {
    "name": "ipython",
    "version": 3
   },
   "file_extension": ".py",
   "mimetype": "text/x-python",
   "name": "python",
   "nbconvert_exporter": "python",
   "pygments_lexer": "ipython3",
   "version": "3.9.7"
  },
  "orig_nbformat": 4
 },
 "nbformat": 4,
 "nbformat_minor": 2
}
