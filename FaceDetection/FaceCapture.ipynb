{
 "cells": [
  {
   "cell_type": "code",
   "execution_count": 10,
   "metadata": {},
   "outputs": [],
   "source": [
    "import cv2\n",
    "import pickle"
   ]
  },
  {
   "cell_type": "code",
   "execution_count": 11,
   "metadata": {},
   "outputs": [],
   "source": [
    "def SaveFrame(frame,name):\n",
    "    \n",
    "    Destination = '.\\CS_pattern reg-20220421T103315Z-001\\CS_pattern reg\\Train' \n",
    "    Exact_Location = os.path.join(Destination,name)\n",
    "    with open(Exact_Location, 'wb') as f:\n",
    "        pickle.dump(frame, f)"
   ]
  },
  {
   "cell_type": "code",
   "execution_count": 13,
   "metadata": {},
   "outputs": [],
   "source": [
    "usr_name = input(\"Input your name: \")\n",
    "cap = cv2.VideoCapture(0)\n",
    "if not cap.isOpened():\n",
    "    print(\"Cannot open camera\")\n",
    "    exit()\n",
    "count = 1\n",
    "while True:\n",
    "    ret, frame = cap.read()\n",
    "    if ret == True :\n",
    "        name = usr_name + \" \"+str(count)+\".jpg\"\n",
    "        SaveFrame(frame,name,)\n",
    "    \n",
    "        PictureCapture='Pictures captured: ' + str(count)\n",
    "        cv2.putText(frame,PictureCapture , (7, 70), cv2.FONT_HERSHEY_SIMPLEX, 1.5, (100, 255, 0), 2, cv2.LINE_AA)\n",
    "        cv2.imshow('Frame', frame)\n",
    "\n",
    "        count += 1\n",
    "        if cv2.waitKey(1) & 0xFF == ord('q'):\n",
    "            break\n",
    "    else:\n",
    "        break\n",
    "\n",
    "cap.release()\n",
    "cv2.destroyAllWindows()\n",
    "        \n"
   ]
  }
 ],
 "metadata": {
  "interpreter": {
   "hash": "fa7c2e171fb43bc266e894796ac1cd890fd01fe78015683a3ca68c9bc7172a30"
  },
  "kernelspec": {
   "display_name": "Python 3.9.12 ('Me_Working')",
   "language": "python",
   "name": "python3"
  },
  "language_info": {
   "codemirror_mode": {
    "name": "ipython",
    "version": 3
   },
   "file_extension": ".py",
   "mimetype": "text/x-python",
   "name": "python",
   "nbconvert_exporter": "python",
   "pygments_lexer": "ipython3",
   "version": "3.9.12"
  },
  "orig_nbformat": 4
 },
 "nbformat": 4,
 "nbformat_minor": 2
}
