{
 "cells": [
  {
   "cell_type": "code",
   "execution_count": 5,
   "metadata": {},
   "outputs": [],
   "source": [
    "import cv2\n",
    "import pickle\n",
    "from facenet_pytorch import MTCNN\n",
    "import torch"
   ]
  },
  {
   "cell_type": "code",
   "execution_count": 6,
   "metadata": {},
   "outputs": [],
   "source": [
    "device = 'cuda' if torch.cuda.is_available() else 'cpu'"
   ]
  },
  {
   "cell_type": "code",
   "execution_count": 7,
   "metadata": {},
   "outputs": [],
   "source": [
    "import os\n",
    "def SaveFrame(frame,name,count):\n",
    "    ExactName= name + \" \"+str(count)+\".jpg\"\n",
    "    Destination = './Train/'+name+'/'+ExactName\n",
    "    os.makedirs(os.path.dirname(Destination), exist_ok=True)\n",
    "    cv2.imwrite(Destination,frame)"
   ]
  },
  {
   "cell_type": "code",
   "execution_count": 8,
   "metadata": {},
   "outputs": [],
   "source": [
    "usr_name = input(\"Input your name: \")\n",
    "detector = MTCNN(margin=14,\n",
    "    factor=0.6,\n",
    "    keep_all=True,\n",
    "    min_face_size=100,\n",
    "    device=device)\n",
    "cap = cv2.VideoCapture(0)\n",
    "if not cap.isOpened():\n",
    "    print(\"Cannot open camera\")\n",
    "    exit()\n",
    "count = 0\n",
    "cap.set(cv2.CAP_PROP_FRAME_WIDTH, 420)  \n",
    "cap.set(cv2.CAP_PROP_FRAME_HEIGHT, 420)\n",
    "while True:\n",
    "    ret, frame = cap.read()\n",
    "    if ret == True :\n",
    "        detections,_ = detector.detect(frame)\n",
    "        img_crop = []\n",
    "        if(detections is not None):\n",
    "\n",
    "            for det in detections:\n",
    "                img_crop.append(frame[int(det[1]):int(det[3]),int(det[0]):int(det[2])])\n",
    "            \n",
    "            if (len(img_crop) == 1  ):\n",
    "                for cropped in img_crop:\n",
    "                    name = usr_name + \" \"+str(count)+\".jpg\"\n",
    "                    SaveFrame(cropped,usr_name,str(count))\n",
    "                    count += 1\n",
    "    \n",
    "        PictureCapture='Pictures captured: ' + str(count)\n",
    "\n",
    "        cv2.putText(frame, PictureCapture, (7, 70), cv2.FONT_HERSHEY_SIMPLEX, 1.5, (100, 255, 0), 2, cv2.LINE_AA)\n",
    "        \n",
    "        cv2.imshow('Frame', frame)\n",
    "\n",
    "        \n",
    "        if cv2.waitKey(1) & 0xFF == ord('q'):\n",
    "            break\n",
    "    else:\n",
    "        break\n",
    "\n",
    "cap.release()\n",
    "cv2.destroyAllWindows()\n",
    "        \n"
   ]
  }
 ],
 "metadata": {
  "interpreter": {
   "hash": "fa7c2e171fb43bc266e894796ac1cd890fd01fe78015683a3ca68c9bc7172a30"
  },
  "kernelspec": {
   "display_name": "Python 3.9.12 ('Me_Working')",
   "language": "python",
   "name": "python3"
  },
  "language_info": {
   "codemirror_mode": {
    "name": "ipython",
    "version": 3
   },
   "file_extension": ".py",
   "mimetype": "text/x-python",
   "name": "python",
   "nbconvert_exporter": "python",
   "pygments_lexer": "ipython3",
   "version": "3.9.7"
  },
  "orig_nbformat": 4
 },
 "nbformat": 4,
 "nbformat_minor": 2
}
