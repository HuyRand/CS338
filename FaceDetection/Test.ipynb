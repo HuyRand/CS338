{
 "cells": [
  {
   "cell_type": "code",
   "execution_count": 18,
   "metadata": {},
   "outputs": [],
   "source": [
    "from mtcnn import MTCNN\n",
    "import cv2\n",
    "import matplotlib.pyplot as plt\n",
    "import time\n",
    "from keras_facenet import FaceNet\n",
    "from numpy import asarray\n",
    "import pickle"
   ]
  },
  {
   "cell_type": "markdown",
   "metadata": {},
   "source": [
    "# Preparing"
   ]
  },
  {
   "cell_type": "markdown",
   "metadata": {},
   "source": [
    "## Evaluation"
   ]
  },
  {
   "cell_type": "code",
   "execution_count": 19,
   "metadata": {},
   "outputs": [],
   "source": [
    "import numpy as np \n",
    "from numpy.linalg import norm\n",
    "def EvalCosine(vector,data,threshold):\n",
    "    Name = 'Unknown'\n",
    "    best = 0\n",
    "    for obj in data:\n",
    "        A = vector\n",
    "        B = obj.vector\n",
    "        # compute cosine similarity\n",
    "        cosine = np.dot(A,B)/(norm(A)*norm(B))\n",
    "        if(cosine>= threshold and cosine >=best):\n",
    "            Name=obj.name\n",
    "            best=cosine\n",
    "    return Name + \"_\"+str(round( best, 2  ))"
   ]
  },
  {
   "cell_type": "markdown",
   "metadata": {},
   "source": [
    "## Class to hold the objects"
   ]
  },
  {
   "cell_type": "code",
   "execution_count": 20,
   "metadata": {},
   "outputs": [],
   "source": [
    "class ProcessedImage:\n",
    "    def __init__ (self, name , vector):\n",
    "        self.name = name\n",
    "        self.vector=vector"
   ]
  },
  {
   "cell_type": "markdown",
   "metadata": {},
   "source": [
    "## Deserializing feature vector + name"
   ]
  },
  {
   "cell_type": "code",
   "execution_count": 21,
   "metadata": {},
   "outputs": [],
   "source": [
    "with open('Extracted_Features', 'rb') as f:\n",
    "    Data = pickle.load(f)"
   ]
  },
  {
   "cell_type": "markdown",
   "metadata": {},
   "source": [
    "## Declaring agents"
   ]
  },
  {
   "cell_type": "code",
   "execution_count": 22,
   "metadata": {},
   "outputs": [],
   "source": [
    "embedder = FaceNet()\n",
    "detector = MTCNN(min_face_size=250) #need to be fine-tuned accordingly to the webcam's resolution"
   ]
  },
  {
   "cell_type": "markdown",
   "metadata": {},
   "source": [
    "# Deployment"
   ]
  },
  {
   "cell_type": "code",
   "execution_count": 23,
   "metadata": {},
   "outputs": [],
   "source": [
    "cap = cv2.VideoCapture(0) #change to 0 to switch to the default camera input\n",
    "\n",
    "if not cap.isOpened():\n",
    "    print(\"Cannot open camera\")\n",
    "    exit()\n",
    "\n",
    "\n",
    "\n",
    "#fps\n",
    "prev_frame_time = 0\n",
    "new_frame_time = 0\n",
    "\n",
    "\n",
    "while True:\n",
    "    # Capture frame-by-frame\n",
    "    ret, frame = cap.read()\n",
    "    frame=cv2.resize(frame, (420, 420))  \n",
    "    if ret == True:\n",
    "\n",
    "        detections = detector.detect_faces(frame)\n",
    "        #bounding box\n",
    "        img_crop = []\n",
    "        for det in detections:\n",
    "            cv2.rectangle(frame, (det['box'][0],det['box'][1]), (det['box'][0]+det['box'][2], det['box'][1]+det['box'][3]), (0, 255, 0), 3)\n",
    "            img_crop.append(frame[det['box'][1]:det['box'][1]+det['box'][3], det['box'][0]:det['box'][0]+det['box'][2]])\n",
    "        \n",
    "            if (len(img_crop) != 0 ):\n",
    "                #extract features\n",
    "                new_trainx =list()\n",
    "                \n",
    "                for cropped in img_crop:\n",
    "                    embedding = embedder.embeddings(img_crop)\n",
    "                    new_trainx.append(embedding)\n",
    "\n",
    "                new_trainx = asarray(new_trainx)\n",
    "                Name=str(EvalCosine(new_trainx[0][0],Data,0.6))\n",
    "                cv2.putText(frame, Name , (det['box'][0], det['box'][1]-10), cv2.FONT_HERSHEY_SIMPLEX, 1, (0, 255, 0), 2)\n",
    "            \n",
    "\n",
    "\n",
    "\n",
    "        #Display fps\n",
    "        font = cv2.FONT_HERSHEY_SIMPLEX\n",
    "        new_frame_time = time.time()\n",
    "        fps = 1/(new_frame_time-prev_frame_time)\n",
    "        prev_frame_time = new_frame_time\n",
    "        fps = int(fps)\n",
    "        fps = str(fps)\n",
    "        cv2.putText(frame, fps, (7, 70), font, 2, (100, 255, 0), 2, cv2.LINE_AA)\n",
    "\n",
    "        # Display the resulting frame\n",
    "        cv2.imshow('Frame', frame)\n",
    "    \n",
    "        # Press Q on keyboard to  exit\n",
    "        if cv2.waitKey(1) & 0xFF == ord('q'):\n",
    "            break\n",
    "   \n",
    "    else:\n",
    "        break\n",
    "cap.release()\n",
    "cv2.destroyAllWindows()"
   ]
  }
 ],
 "metadata": {
  "interpreter": {
   "hash": "fa7c2e171fb43bc266e894796ac1cd890fd01fe78015683a3ca68c9bc7172a30"
  },
  "kernelspec": {
   "display_name": "Python 3.9.12 ('Me_Working')",
   "language": "python",
   "name": "python3"
  },
  "language_info": {
   "codemirror_mode": {
    "name": "ipython",
    "version": 3
   },
   "file_extension": ".py",
   "mimetype": "text/x-python",
   "name": "python",
   "nbconvert_exporter": "python",
   "pygments_lexer": "ipython3",
   "version": "3.9.7"
  },
  "orig_nbformat": 4
 },
 "nbformat": 4,
 "nbformat_minor": 2
}
